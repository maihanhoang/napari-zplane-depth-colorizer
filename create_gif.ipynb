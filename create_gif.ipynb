{
 "cells": [
  {
   "cell_type": "code",
   "execution_count": 5,
   "metadata": {},
   "outputs": [
    {
     "name": "stdout",
     "output_type": "stream",
     "text": [
      "GIF saved as /home/mai/Desktop/entire_stack_zproj.gif\n"
     ]
    }
   ],
   "source": [
    "from PIL import Image\n",
    "import glob\n",
    "\n",
    "# Define the path where your JPEG images are located and load them\n",
    "image_folder_path = \"/home/mai/Downloads/gif_stack_zproj/*.jpg\"  # Change to your folder path\n",
    "image_files = sorted(glob.glob(image_folder_path))  # Sorted to keep order\n",
    "\n",
    "# Open each image and store them in a list\n",
    "images = [Image.open(image_file) for image_file in image_files]\n",
    "\n",
    "# Save as a GIF\n",
    "output_path = \"/home/mai/Desktop/entire_stack_zproj.gif\"\n",
    "images[0].save(\n",
    "    output_path,\n",
    "    save_all=True,\n",
    "    append_images=images[1:],  # Append all images except the first\n",
    "    duration=750,  # Time (ms) each frame stays, change as needed\n",
    "    loop=0  # 0 means infinite loop\n",
    ")\n",
    "\n",
    "print(f\"GIF saved as {output_path}\")\n"
   ]
  }
 ],
 "metadata": {
  "kernelspec": {
   "display_name": "napari-depth-visualizer",
   "language": "python",
   "name": "python3"
  },
  "language_info": {
   "codemirror_mode": {
    "name": "ipython",
    "version": 3
   },
   "file_extension": ".py",
   "mimetype": "text/x-python",
   "name": "python",
   "nbconvert_exporter": "python",
   "pygments_lexer": "ipython3",
   "version": "3.12.7"
  }
 },
 "nbformat": 4,
 "nbformat_minor": 2
}
